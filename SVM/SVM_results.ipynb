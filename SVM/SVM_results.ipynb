{
 "cells": [
  {
   "cell_type": "markdown",
   "metadata": {},
   "source": [
    "# Generazione grafici SVM\n",
    "\n",
    "## Caricamento dei pandas Dataframe"
   ]
  },
  {
   "cell_type": "code",
   "execution_count": 4,
   "metadata": {
    "scrolled": false
   },
   "outputs": [
    {
     "name": "stdout",
     "output_type": "stream",
     "text": [
      "Using matplotlib backend: Qt5Agg\n"
     ]
    }
   ],
   "source": [
    "import pandas as pd\n",
    "import numpy as np\n",
    "import matplotlib.figure\n",
    "import matplotlib.pyplot as plt\n",
    "import matplotlib.ticker as mticker\n",
    "\n",
    "%matplotlib auto\n",
    "\n",
    "train_results_path = \"C:\\\\users\\\\andre\\\\Desktop\\\\ML Project - Panzino Melis\\\\SVM\\\\SVM_train_results.csv\"\n",
    "\n",
    "tr_df = pd.read_csv(train_results_path)"
   ]
  },
  {
   "cell_type": "markdown",
   "metadata": {},
   "source": [
    "## Generazione degli array con i risultati"
   ]
  },
  {
   "cell_type": "code",
   "execution_count": 5,
   "metadata": {},
   "outputs": [],
   "source": [
    "columns = [\"Kernel\", \"Validation Accuracy\", \"Train Time (s)\", \"Validation Time (s)\"]\n",
    "\n",
    "means_list = []  #  Lista contente i valori medi\n",
    "std_list = []  #  Lista contentente le deviazioni standard dei valori\n",
    "\n",
    "# Per ogni Kernel, faccio la media dei valori ottenuti nei vari fold\n",
    "\n",
    "for i in range(0, 16, 4):\n",
    "    \n",
    "    current_kernel = [tr_df.loc[i, \"Kernel Used\"]] \n",
    "    \n",
    "    means = list(round(np.mean(tr_df.loc[i: i + 4, [\"Validation Accuracy\", \"Train Time (s)\", \"Validation Time (s)\"]], axis = 0), 2))\n",
    "    std_devs = list(round(np.std(tr_df.loc[i: i + 4, [\"Validation Accuracy\", \"Train Time (s)\", \"Validation Time (s)\"]], axis = 0), 2))\n",
    "    \n",
    "    means_list.append(current_kernel + means)\n",
    "    std_list.append(current_kernel + std_devs)\n",
    "    \n",
    "mean_accs = np.array(means_list)[:, 1].astype(float)\n",
    "std_accs = np.array(std_list)[:, 1].astype(float)\n",
    "\n",
    "mean_tr_times = np.array(means_list)[:, 2].astype(float)\n",
    "std_tr_times = np.array(std_list)[:, 2].astype(float)\n",
    "\n",
    "mean_val_times = np.array(means_list)[:, 3].astype(float)\n",
    "std_val_times = np.array(std_list)[:, 3].astype(float)"
   ]
  },
  {
   "cell_type": "markdown",
   "metadata": {},
   "source": [
    "## Creazione dei grafici"
   ]
  },
  {
   "cell_type": "code",
   "execution_count": 6,
   "metadata": {},
   "outputs": [],
   "source": [
    "# Grafico della Validation Accuracy\n",
    "\n",
    "plt_settings = {\n",
    "    \"axes_lab_fontsize\" : 18,\n",
    "    \"axes_ticks_fontsize\" : 16,\n",
    "    \"title_size\" : 20\n",
    "}\n",
    "\n",
    "plt.figure(0)\n",
    "plt.style.use('ggplot')\n",
    "\n",
    "plt.xlabel(\"Kernel Used\", fontsize=plt_settings.get(\"axes_lab_fontsize\"))\n",
    "plt.xticks(fontsize=plt_settings.get(\"axes_ticks_fontsize\"), rotation=45)\n",
    "\n",
    "plt.ylabel(\"Accuracy (%)\", fontsize=plt_settings.get(\"axes_lab_fontsize\"))\n",
    "plt.yticks(fontsize=plt_settings.get(\"axes_ticks_fontsize\"), rotation=0)\n",
    "plt.ylim(0, 100)\n",
    "\n",
    "plt.title(\"Validation Accuracy using different kernels (4-Fold Cross Validation)\", fontsize=plt_settings.get(\"title_size\"))\n",
    "\n",
    "plt.bar([1, 2, 3, 4], height=mean_accs, width=0.2, tick_label=[\"Linear\", \"RBF\", \"Poly\", \"Sigmoid\"])\n",
    "plt.errorbar([1, 2, 3, 4], mean_accs, std_accs, capsize=5, ecolor='k', fmt='none')\n",
    "\n",
    "text = [str(mean_accs[i]) + \" % (\" + u\"\\u00B1\" + str(std_accs[i]) + \")\" for i in range(len(mean_accs))]\n",
    "\n",
    "for a, b, s in zip([1.1, 2.1, 3.1, 4.1], mean_accs, text):\n",
    "    plt.text(a, b, str(s), fontsize=16)"
   ]
  },
  {
   "cell_type": "code",
   "execution_count": 1,
   "metadata": {},
   "outputs": [
    {
     "ename": "NameError",
     "evalue": "name 'plt' is not defined",
     "output_type": "error",
     "traceback": [
      "\u001b[1;31m---------------------------------------------------------------------------\u001b[0m",
      "\u001b[1;31mNameError\u001b[0m                                 Traceback (most recent call last)",
      "\u001b[1;32m~\\AppData\\Local\\Temp/ipykernel_24656/3104084749.py\u001b[0m in \u001b[0;36m<module>\u001b[1;34m\u001b[0m\n\u001b[0;32m      5\u001b[0m }\n\u001b[0;32m      6\u001b[0m \u001b[1;33m\u001b[0m\u001b[0m\n\u001b[1;32m----> 7\u001b[1;33m \u001b[0mfig\u001b[0m\u001b[1;33m,\u001b[0m \u001b[1;33m(\u001b[0m\u001b[0max0\u001b[0m\u001b[1;33m,\u001b[0m \u001b[0max1\u001b[0m\u001b[1;33m)\u001b[0m \u001b[1;33m=\u001b[0m \u001b[0mplt\u001b[0m\u001b[1;33m.\u001b[0m\u001b[0msubplots\u001b[0m\u001b[1;33m(\u001b[0m\u001b[1;36m1\u001b[0m\u001b[1;33m,\u001b[0m \u001b[1;36m2\u001b[0m\u001b[1;33m)\u001b[0m\u001b[1;33m\u001b[0m\u001b[1;33m\u001b[0m\u001b[0m\n\u001b[0m\u001b[0;32m      8\u001b[0m \u001b[0mplt\u001b[0m\u001b[1;33m.\u001b[0m\u001b[0mstyle\u001b[0m\u001b[1;33m.\u001b[0m\u001b[0muse\u001b[0m\u001b[1;33m(\u001b[0m\u001b[1;34m'ggplot'\u001b[0m\u001b[1;33m)\u001b[0m\u001b[1;33m\u001b[0m\u001b[1;33m\u001b[0m\u001b[0m\n\u001b[0;32m      9\u001b[0m \u001b[1;33m\u001b[0m\u001b[0m\n",
      "\u001b[1;31mNameError\u001b[0m: name 'plt' is not defined"
     ]
    }
   ],
   "source": [
    "plt_settings = {\n",
    "    \"axes_lab_fontsize\" : 18,\n",
    "    \"axes_ticks_fontsize\" : 16,\n",
    "    \"title_size\" : 18\n",
    "}\n",
    "\n",
    "fig, (ax0, ax1) = plt.subplots(1, 2)\n",
    "plt.style.use('ggplot')\n",
    "\n",
    "fig.suptitle(\"Training and Validation Times using different kernels (4-Fold Cross Validation)\", fontsize=plt_settings.get(\"title_size\"))\n",
    "\n",
    "ax0.bar([1, 2, 3, 4], height=mean_tr_times, width=0.2)\n",
    "ax0.errorbar([1, 2, 3, 4], mean_tr_times, std_tr_times, capsize=5, ecolor='k', fmt='none')\n",
    "\n",
    "ax0.set_xticks(range(1, 5))\n",
    "ax0.set_xticklabels([\"Linear\", \"RBF\", \"Poly\", \"Sigmoid\"], fontsize=plt_settings.get(\"axes_ticks_fontsize\"), rotation=45)\n",
    "ax0.set_xlabel(\"Kernel Used\", fontsize=plt_settings.get(\"axes_lab_fontsize\"))\n",
    "ax0.title.set_text('Training')\n",
    "\n",
    "ax1.bar([1, 2, 3, 4], height=mean_val_times, width=0.2)\n",
    "ax1.errorbar([1, 2, 3, 4], mean_val_times, std_val_times, capsize=5, ecolor='k', fmt='none')\n",
    "\n",
    "ax1.set_xticks(range(1, 5))\n",
    "ax1.set_xticklabels([\"Linear\", \"RBF\", \"Poly\", \"Sigmoid\"], fontsize=plt_settings.get(\"axes_ticks_fontsize\"), rotation=45)\n",
    "ax1.set_xlabel(\"Kernel Used\", fontsize=plt_settings.get(\"axes_lab_fontsize\"))\n",
    "ax1.title.set_text('Validation')\n",
    "\n",
    "ax0.set_ylabel(\"Time (s)\", fontsize=plt_settings.get(\"axes_lab_fontsize\"))\n",
    "ax1.set_ylabel(\"Time (s)\", fontsize=plt_settings.get(\"axes_lab_fontsize\"))\n",
    "ax0.tick_params(axis=\"y\", labelsize=plt_settings.get(\"axes_ticks_fontsize\"))\n",
    "ax1.tick_params(axis=\"y\", labelsize=plt_settings.get(\"axes_ticks_fontsize\"))\n",
    "\n",
    "text0 = [str(mean_tr_times[i]) + \" s (\" + u\"\\u00B1\" + str(std_tr_times[i]) + \")\" for i in range(len(std_tr_times))]\n",
    "text1 = [str(mean_val_times[i]) + \" s (\" + u\"\\u00B1\" + str(std_val_times[i]) + \")\" for i in range(len(std_val_times))]\n",
    "\n",
    "for a, b, s in zip([1.1, 2.1, 3.1, 4.1], mean_tr_times, text0):\n",
    "    ax0.text(a, b, str(s), fontsize=12)\n",
    "for a, b, s in zip([1.1, 2.1, 3.1, 4.1], mean_val_times, text1):\n",
    "    ax1.text(a, b, str(s), fontsize=12)"
   ]
  },
  {
   "cell_type": "markdown",
   "metadata": {},
   "source": [
    "## Valutazione parte di test"
   ]
  },
  {
   "cell_type": "code",
   "execution_count": 18,
   "metadata": {},
   "outputs": [
    {
     "name": "stdout",
     "output_type": "stream",
     "text": [
      "Using matplotlib backend: Qt5Agg\n"
     ]
    }
   ],
   "source": [
    "import pandas as pd\n",
    "import numpy as np\n",
    "import matplotlib.figure\n",
    "import matplotlib.pyplot as plt\n",
    "import matplotlib.ticker as mticker\n",
    "\n",
    "%matplotlib auto\n",
    "\n",
    "test_results_path = \"C:\\\\users\\\\andre\\\\Desktop\\\\ML Project - Panzino Melis\\\\SVM\\\\SVM_test_results.csv\"\n",
    "\n",
    "ts_df = pd.read_csv(test_results_path)"
   ]
  },
  {
   "cell_type": "code",
   "execution_count": 19,
   "metadata": {},
   "outputs": [
    {
     "data": {
      "text/html": [
       "<div>\n",
       "<style scoped>\n",
       "    .dataframe tbody tr th:only-of-type {\n",
       "        vertical-align: middle;\n",
       "    }\n",
       "\n",
       "    .dataframe tbody tr th {\n",
       "        vertical-align: top;\n",
       "    }\n",
       "\n",
       "    .dataframe thead th {\n",
       "        text-align: right;\n",
       "    }\n",
       "</style>\n",
       "<table border=\"1\" class=\"dataframe\">\n",
       "  <thead>\n",
       "    <tr style=\"text-align: right;\">\n",
       "      <th></th>\n",
       "      <th>Kernel Used</th>\n",
       "      <th>Test Accuracy</th>\n",
       "      <th>Train Time</th>\n",
       "      <th>Train Time (s)</th>\n",
       "      <th>Test Time</th>\n",
       "      <th>Test Time (s)</th>\n",
       "    </tr>\n",
       "  </thead>\n",
       "  <tbody>\n",
       "    <tr>\n",
       "      <th>0</th>\n",
       "      <td>rbf</td>\n",
       "      <td>97.39</td>\n",
       "      <td>0 h, 12 m, 41 s</td>\n",
       "      <td>0 h, 12 m, 41 s</td>\n",
       "      <td>149.42</td>\n",
       "      <td>149.42</td>\n",
       "    </tr>\n",
       "  </tbody>\n",
       "</table>\n",
       "</div>"
      ],
      "text/plain": [
       "  Kernel Used  Test Accuracy       Train Time   Train Time (s)  Test Time  \\\n",
       "0         rbf          97.39  0 h, 12 m, 41 s  0 h, 12 m, 41 s     149.42   \n",
       "\n",
       "   Test Time (s)  \n",
       "0         149.42  "
      ]
     },
     "execution_count": 19,
     "metadata": {},
     "output_type": "execute_result"
    }
   ],
   "source": [
    "ts_df"
   ]
  },
  {
   "cell_type": "code",
   "execution_count": 15,
   "metadata": {},
   "outputs": [
    {
     "data": {
      "text/plain": [
       "[['rbf', 97.39, '0 h, 12 m, 41 s', '0 h, 12 m, 41 s', 149.42, 149.42]]"
      ]
     },
     "execution_count": 15,
     "metadata": {},
     "output_type": "execute_result"
    }
   ],
   "source": []
  },
  {
   "cell_type": "code",
   "execution_count": null,
   "metadata": {},
   "outputs": [],
   "source": []
  }
 ],
 "metadata": {
  "interpreter": {
   "hash": "b3ba2566441a7c06988d0923437866b63cedc61552a5af99d1f4fb67d367b25f"
  },
  "kernelspec": {
   "display_name": "Python 3.8.8 64-bit ('base': conda)",
   "name": "python3"
  },
  "language_info": {
   "codemirror_mode": {
    "name": "ipython",
    "version": 3
   },
   "file_extension": ".py",
   "mimetype": "text/x-python",
   "name": "python",
   "nbconvert_exporter": "python",
   "pygments_lexer": "ipython3",
   "version": "3.8.8"
  }
 },
 "nbformat": 4,
 "nbformat_minor": 1
}
