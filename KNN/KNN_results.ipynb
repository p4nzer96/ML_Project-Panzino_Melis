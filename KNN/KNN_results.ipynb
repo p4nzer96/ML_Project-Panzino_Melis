{
 "cells": [
  {
   "cell_type": "markdown",
   "metadata": {},
   "source": [
    "# Notebook per la creazione dei grafici KNN"
   ]
  },
  {
   "cell_type": "markdown",
   "metadata": {},
   "source": [
    "## Import delle librerie"
   ]
  },
  {
   "cell_type": "code",
   "execution_count": 10,
   "metadata": {},
   "outputs": [],
   "source": [
    "import pandas as pd\n",
    "import matplotlib.pyplot as plt\n",
    "import numpy as np"
   ]
  },
  {
   "cell_type": "markdown",
   "metadata": {},
   "source": [
    "## Caricamento dei risultati di training e test"
   ]
  },
  {
   "cell_type": "code",
   "execution_count": 11,
   "metadata": {},
   "outputs": [],
   "source": [
    "train_results = pd.read_csv(\"KNN_train_results.csv\")\n",
    "test_results = pd.read_csv(\"KNN_test_results.csv\")"
   ]
  },
  {
   "cell_type": "markdown",
   "metadata": {},
   "source": [
    "## Elaborazione dei valori"
   ]
  },
  {
   "cell_type": "code",
   "execution_count": 12,
   "metadata": {},
   "outputs": [],
   "source": [
    "# Calcolo le medie delle accuracy tra i fold, per ogni valore di k\n",
    "mean_accs = np.mean(train_results.values[0:4, :].astype(float), axis=0)\n",
    "\n",
    "# Calcolo le deviazioni standard delle accuracy tra i fold, per ogni valore di k\n",
    "std_accs = np.std(train_results.values[0:4, :].astype(float), axis=0)\n",
    "\n",
    "# Trasformo i valori ottenuti da 0 a 100\n",
    "mean_accs *= 100\n",
    "std_accs *= 100\n",
    "\n",
    "# Calcolo il valore massimo e il k associato\n",
    "k_value = np.argmax(mean_accs) + 1\n",
    "max_acc = mean_accs[k_value - 1]\n",
    "\n"
   ]
  },
  {
   "cell_type": "markdown",
   "metadata": {},
   "source": [
    "## Plot dei grafici"
   ]
  },
  {
   "cell_type": "code",
   "execution_count": 13,
   "metadata": {},
   "outputs": [
    {
     "name": "stdout",
     "output_type": "stream",
     "text": [
      "Using matplotlib backend: Qt5Agg\n"
     ]
    },
    {
     "data": {
      "text/plain": [
       "<matplotlib.legend.Legend at 0x1872ccdcf40>"
      ]
     },
     "execution_count": 13,
     "metadata": {},
     "output_type": "execute_result"
    }
   ],
   "source": [
    "%matplotlib auto\n",
    "\n",
    "plt_settings = {\n",
    "    \"axes_lab_fontsize\" : 18,\n",
    "    \"axes_ticks_fontsize\" : 16,\n",
    "    \"title_size\" : 20\n",
    "}\n",
    "\n",
    "col = [i+1 for i in range(167)]\n",
    "\n",
    "plt.figure(0)\n",
    "plt.style.use('ggplot')\n",
    "\n",
    "plt.xlabel(\"k value\", fontsize=plt_settings.get(\"axes_lab_fontsize\"))\n",
    "plt.xticks(fontsize=plt_settings.get(\"axes_ticks_fontsize\"), rotation=45)\n",
    "\n",
    "plt.ylabel(\"Accuracy (%)\", fontsize=plt_settings.get(\"axes_lab_fontsize\"))\n",
    "plt.yticks(fontsize=plt_settings.get(\"axes_ticks_fontsize\"), rotation=0)\n",
    "\n",
    "plt.title(\"Validation Accuracy using different values of k (4-Fold Cross Validation)\", fontsize=plt_settings.get(\"title_size\"))\n",
    "\n",
    "plt.plot(col, mean_accs, label=\"Mean\")\n",
    "plt.plot(col, train_results.values[0, :].astype(float)*100, '--', label=\"Fold 0\")\n",
    "plt.plot(col, train_results.values[1, :].astype(float)*100, '--', label=\"Fold 1\")\n",
    "plt.plot(col, train_results.values[2, :].astype(float)*100, '--', label=\"Fold 2\")\n",
    "plt.plot(col, train_results.values[3, :].astype(float)*100, '--', color =\"green\", label=\"Fold 3\")\n",
    "plt.legend(fontsize=18)\n",
    "#plt.errorbar([i for i in range(1, 11)], mean_accs, std_accs, capsize=0, ecolor='k', fmt='none')\n",
    "\n",
    "#text = [str(mean_accs[i]) + \" % (\" + u\"\\u00B1\" + str(std_accs[i]) + \")\" for i in range(len(mean_accs))]"
   ]
  },
  {
   "cell_type": "code",
   "execution_count": 14,
   "metadata": {},
   "outputs": [
    {
     "data": {
      "text/plain": [
       "12"
      ]
     },
     "execution_count": 14,
     "metadata": {},
     "output_type": "execute_result"
    }
   ],
   "source": [
    "col[np.argmax(mean_accs)]"
   ]
  },
  {
   "cell_type": "code",
   "execution_count": 15,
   "metadata": {},
   "outputs": [
    {
     "data": {
      "text/plain": [
       "11"
      ]
     },
     "execution_count": 15,
     "metadata": {},
     "output_type": "execute_result"
    }
   ],
   "source": [
    "np.argmax(mean_accs)"
   ]
  },
  {
   "cell_type": "code",
   "execution_count": 17,
   "metadata": {},
   "outputs": [
    {
     "data": {
      "text/html": [
       "<div>\n",
       "<style scoped>\n",
       "    .dataframe tbody tr th:only-of-type {\n",
       "        vertical-align: middle;\n",
       "    }\n",
       "\n",
       "    .dataframe tbody tr th {\n",
       "        vertical-align: top;\n",
       "    }\n",
       "\n",
       "    .dataframe thead th {\n",
       "        text-align: right;\n",
       "    }\n",
       "</style>\n",
       "<table border=\"1\" class=\"dataframe\">\n",
       "  <thead>\n",
       "    <tr style=\"text-align: right;\">\n",
       "      <th></th>\n",
       "      <th>Accuracy</th>\n",
       "      <th>K Value</th>\n",
       "      <th>Train Time</th>\n",
       "      <th>Train Time (s)</th>\n",
       "      <th>Test Time</th>\n",
       "      <th>Test Time (s)</th>\n",
       "    </tr>\n",
       "  </thead>\n",
       "  <tbody>\n",
       "    <tr>\n",
       "      <th>0</th>\n",
       "      <td>97.048651</td>\n",
       "      <td>12</td>\n",
       "      <td>0 h, 0 m, 0 s</td>\n",
       "      <td>0.07</td>\n",
       "      <td>0 h, 0 m, 10 s</td>\n",
       "      <td>10.99</td>\n",
       "    </tr>\n",
       "  </tbody>\n",
       "</table>\n",
       "</div>"
      ],
      "text/plain": [
       "    Accuracy  K Value     Train Time  Train Time (s)       Test Time  \\\n",
       "0  97.048651       12  0 h, 0 m, 0 s            0.07  0 h, 0 m, 10 s   \n",
       "\n",
       "   Test Time (s)  \n",
       "0          10.99  "
      ]
     },
     "execution_count": 17,
     "metadata": {},
     "output_type": "execute_result"
    }
   ],
   "source": [
    "test_results"
   ]
  },
  {
   "cell_type": "code",
   "execution_count": null,
   "metadata": {},
   "outputs": [],
   "source": []
  }
 ],
 "metadata": {
  "interpreter": {
   "hash": "b3ba2566441a7c06988d0923437866b63cedc61552a5af99d1f4fb67d367b25f"
  },
  "kernelspec": {
   "display_name": "Python 3.8.8 64-bit ('base': conda)",
   "name": "python3"
  },
  "language_info": {
   "codemirror_mode": {
    "name": "ipython",
    "version": 3
   },
   "file_extension": ".py",
   "mimetype": "text/x-python",
   "name": "python",
   "nbconvert_exporter": "python",
   "pygments_lexer": "ipython3",
   "version": "3.8.8"
  },
  "orig_nbformat": 4
 },
 "nbformat": 4,
 "nbformat_minor": 2
}
