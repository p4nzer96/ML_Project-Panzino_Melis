{
 "cells": [
  {
   "cell_type": "markdown",
   "metadata": {},
   "source": [
    "# Results of the Neural Network classifier"
   ]
  },
  {
   "cell_type": "markdown",
   "metadata": {},
   "source": [
    "## Importing libraries"
   ]
  },
  {
   "cell_type": "code",
   "execution_count": 2,
   "metadata": {},
   "outputs": [],
   "source": [
    "import pandas as pd\n",
    "import numpy as np\n",
    "\n",
    "import matplotlib\n",
    "import matplotlib.pyplot as plt"
   ]
  },
  {
   "cell_type": "markdown",
   "metadata": {},
   "source": [
    "## Loading of results"
   ]
  },
  {
   "cell_type": "code",
   "execution_count": 3,
   "metadata": {},
   "outputs": [],
   "source": [
    "train_results_df = pd.read_csv(\"train_accuracies.csv\")\n",
    "train_losses_df = pd.read_csv(\"train_losses.csv\")\n",
    "val_accuracies_df = pd.read_csv(\"val_accuracies.csv\")\n",
    "val_losses_df = pd.read_csv(\"val_losses.csv\")\n",
    "\n",
    "train_val_times_df = pd.read_csv(\"train_times.csv\")"
   ]
  },
  {
   "cell_type": "markdown",
   "metadata": {},
   "source": [
    "## Processing the results"
   ]
  },
  {
   "cell_type": "code",
   "execution_count": 4,
   "metadata": {},
   "outputs": [],
   "source": [
    "train_accuracies = train_results_df.values[:, 1:]\n",
    "train_losses = train_losses_df.values[:, 1:]\n",
    "val_accuracies = val_accuracies_df.values[:, 1:]\n",
    "val_losses = val_losses_df.values[:, 1:]\n",
    "\n",
    "mean_tr_results = np.mean(train_accuracies, axis = 0)\n",
    "mean_tr_losses = np.mean(train_losses, axis = 0)\n",
    "mean_val_accuracies = np.mean(val_accuracies, axis = 0)\n",
    "mean_val_losses = np.mean(val_losses, axis = 0)\n",
    "\n",
    "std_tr_results = np.std(train_accuracies, axis = 0)\n",
    "std_tr_losses = np.std(train_losses, axis = 0)\n",
    "std_val_accuracies = np.std(val_accuracies, axis = 0)\n",
    "std_val_losses = np.std(val_losses, axis = 0)\n",
    "\n",
    "epochs = [i for i in range(1, 101)]"
   ]
  },
  {
   "cell_type": "markdown",
   "metadata": {},
   "source": [
    "## Creation of the plot"
   ]
  },
  {
   "cell_type": "code",
   "execution_count": 34,
   "metadata": {},
   "outputs": [
    {
     "name": "stdout",
     "output_type": "stream",
     "text": [
      "Using matplotlib backend: Qt5Agg\n"
     ]
    }
   ],
   "source": [
    "%matplotlib auto\n",
    "\n",
    "fig, ((ax1, ax2), (ax3, ax4)) = plt.subplots(2, 2)\n",
    "\n",
    "for i in range(4):\n",
    "\n",
    "    ax1.plot(epochs, train_accuracies[i, :])\n",
    "    ax2.plot(epochs, val_accuracies[i, :])\n",
    "    ax3.plot(epochs, train_losses[i, :])\n",
    "    ax4.plot(epochs, val_losses[i, :])"
   ]
  },
  {
   "cell_type": "code",
   "execution_count": 32,
   "metadata": {},
   "outputs": [],
   "source": [
    "train_results_df = pd.read_csv(\"train_accuracies.csv\")"
   ]
  },
  {
   "cell_type": "code",
   "execution_count": 33,
   "metadata": {},
   "outputs": [
    {
     "data": {
      "text/html": [
       "<div>\n",
       "<style scoped>\n",
       "    .dataframe tbody tr th:only-of-type {\n",
       "        vertical-align: middle;\n",
       "    }\n",
       "\n",
       "    .dataframe tbody tr th {\n",
       "        vertical-align: top;\n",
       "    }\n",
       "\n",
       "    .dataframe thead th {\n",
       "        text-align: right;\n",
       "    }\n",
       "</style>\n",
       "<table border=\"1\" class=\"dataframe\">\n",
       "  <thead>\n",
       "    <tr style=\"text-align: right;\">\n",
       "      <th></th>\n",
       "      <th>Unnamed: 0</th>\n",
       "      <th>1</th>\n",
       "      <th>2</th>\n",
       "      <th>3</th>\n",
       "      <th>4</th>\n",
       "      <th>5</th>\n",
       "      <th>6</th>\n",
       "      <th>7</th>\n",
       "      <th>8</th>\n",
       "      <th>9</th>\n",
       "      <th>...</th>\n",
       "      <th>91</th>\n",
       "      <th>92</th>\n",
       "      <th>93</th>\n",
       "      <th>94</th>\n",
       "      <th>95</th>\n",
       "      <th>96</th>\n",
       "      <th>97</th>\n",
       "      <th>98</th>\n",
       "      <th>99</th>\n",
       "      <th>100</th>\n",
       "    </tr>\n",
       "  </thead>\n",
       "  <tbody>\n",
       "    <tr>\n",
       "      <th>0</th>\n",
       "      <td>0</td>\n",
       "      <td>0.788597</td>\n",
       "      <td>0.808919</td>\n",
       "      <td>0.808919</td>\n",
       "      <td>0.808919</td>\n",
       "      <td>0.808919</td>\n",
       "      <td>0.808919</td>\n",
       "      <td>0.808919</td>\n",
       "      <td>0.808919</td>\n",
       "      <td>0.808919</td>\n",
       "      <td>...</td>\n",
       "      <td>0.808919</td>\n",
       "      <td>0.808919</td>\n",
       "      <td>0.808919</td>\n",
       "      <td>0.808919</td>\n",
       "      <td>0.808919</td>\n",
       "      <td>0.808919</td>\n",
       "      <td>0.808919</td>\n",
       "      <td>0.808919</td>\n",
       "      <td>0.808919</td>\n",
       "      <td>0.808919</td>\n",
       "    </tr>\n",
       "    <tr>\n",
       "      <th>1</th>\n",
       "      <td>1</td>\n",
       "      <td>0.808776</td>\n",
       "      <td>0.808776</td>\n",
       "      <td>0.808776</td>\n",
       "      <td>0.808776</td>\n",
       "      <td>0.808776</td>\n",
       "      <td>0.808776</td>\n",
       "      <td>0.808776</td>\n",
       "      <td>0.808776</td>\n",
       "      <td>0.808776</td>\n",
       "      <td>...</td>\n",
       "      <td>0.808776</td>\n",
       "      <td>0.808776</td>\n",
       "      <td>0.808776</td>\n",
       "      <td>0.808776</td>\n",
       "      <td>0.808776</td>\n",
       "      <td>0.808776</td>\n",
       "      <td>0.808776</td>\n",
       "      <td>0.808776</td>\n",
       "      <td>0.808776</td>\n",
       "      <td>0.808776</td>\n",
       "    </tr>\n",
       "    <tr>\n",
       "      <th>2</th>\n",
       "      <td>2</td>\n",
       "      <td>0.808586</td>\n",
       "      <td>0.808586</td>\n",
       "      <td>0.808586</td>\n",
       "      <td>0.808586</td>\n",
       "      <td>0.808586</td>\n",
       "      <td>0.808586</td>\n",
       "      <td>0.808586</td>\n",
       "      <td>0.808586</td>\n",
       "      <td>0.808586</td>\n",
       "      <td>...</td>\n",
       "      <td>0.808586</td>\n",
       "      <td>0.808586</td>\n",
       "      <td>0.808586</td>\n",
       "      <td>0.808586</td>\n",
       "      <td>0.808586</td>\n",
       "      <td>0.808586</td>\n",
       "      <td>0.808586</td>\n",
       "      <td>0.808586</td>\n",
       "      <td>0.808586</td>\n",
       "      <td>0.808586</td>\n",
       "    </tr>\n",
       "    <tr>\n",
       "      <th>3</th>\n",
       "      <td>3</td>\n",
       "      <td>0.859842</td>\n",
       "      <td>0.859842</td>\n",
       "      <td>0.859842</td>\n",
       "      <td>0.859842</td>\n",
       "      <td>0.859842</td>\n",
       "      <td>0.859842</td>\n",
       "      <td>0.859842</td>\n",
       "      <td>0.859842</td>\n",
       "      <td>0.859842</td>\n",
       "      <td>...</td>\n",
       "      <td>0.859842</td>\n",
       "      <td>0.859842</td>\n",
       "      <td>0.859842</td>\n",
       "      <td>0.859842</td>\n",
       "      <td>0.859842</td>\n",
       "      <td>0.859842</td>\n",
       "      <td>0.859842</td>\n",
       "      <td>0.859842</td>\n",
       "      <td>0.859842</td>\n",
       "      <td>0.859842</td>\n",
       "    </tr>\n",
       "  </tbody>\n",
       "</table>\n",
       "<p>4 rows × 101 columns</p>\n",
       "</div>"
      ],
      "text/plain": [
       "   Unnamed: 0         1         2         3         4         5         6  \\\n",
       "0           0  0.788597  0.808919  0.808919  0.808919  0.808919  0.808919   \n",
       "1           1  0.808776  0.808776  0.808776  0.808776  0.808776  0.808776   \n",
       "2           2  0.808586  0.808586  0.808586  0.808586  0.808586  0.808586   \n",
       "3           3  0.859842  0.859842  0.859842  0.859842  0.859842  0.859842   \n",
       "\n",
       "          7         8         9  ...        91        92        93        94  \\\n",
       "0  0.808919  0.808919  0.808919  ...  0.808919  0.808919  0.808919  0.808919   \n",
       "1  0.808776  0.808776  0.808776  ...  0.808776  0.808776  0.808776  0.808776   \n",
       "2  0.808586  0.808586  0.808586  ...  0.808586  0.808586  0.808586  0.808586   \n",
       "3  0.859842  0.859842  0.859842  ...  0.859842  0.859842  0.859842  0.859842   \n",
       "\n",
       "         95        96        97        98        99       100  \n",
       "0  0.808919  0.808919  0.808919  0.808919  0.808919  0.808919  \n",
       "1  0.808776  0.808776  0.808776  0.808776  0.808776  0.808776  \n",
       "2  0.808586  0.808586  0.808586  0.808586  0.808586  0.808586  \n",
       "3  0.859842  0.859842  0.859842  0.859842  0.859842  0.859842  \n",
       "\n",
       "[4 rows x 101 columns]"
      ]
     },
     "execution_count": 33,
     "metadata": {},
     "output_type": "execute_result"
    }
   ],
   "source": [
    "train_results_df"
   ]
  },
  {
   "cell_type": "code",
   "execution_count": 5,
   "metadata": {},
   "outputs": [],
   "source": [
    "import tensorflow as tf\n",
    "import sys\n",
    "\n",
    "sys.path.insert(0, \"C:\\\\Users\\\\andre\\\\Desktop\\\\ML Project - Panzino Melis\\\\\")\n",
    "\n",
    "model = tf.keras.models.load_model(\"CNN_Model_f3.h5\")\n",
    "\n",
    "from LoadDataset import LoadDataset\n",
    "\n",
    "ld = LoadDataset(\"C:\\\\Users\\\\andre\\\\Desktop\\\\ML Project - Panzino Melis\\\\Dataset\\\\\")\n",
    "\n",
    "x, y = ld.load_test()\n",
    "\n",
    "z = model.predict(x, 20)"
   ]
  },
  {
   "cell_type": "code",
   "execution_count": 2,
   "metadata": {},
   "outputs": [],
   "source": [
    "import numpy as np\n",
    "z = np.round(z, 0).astype(int)[:, 0]"
   ]
  },
  {
   "cell_type": "code",
   "execution_count": 3,
   "metadata": {},
   "outputs": [],
   "source": [
    "from sklearn.metrics import accuracy_score\n",
    "\n",
    "u = accuracy_score(z, y)\n",
    "\n"
   ]
  },
  {
   "cell_type": "code",
   "execution_count": 25,
   "metadata": {},
   "outputs": [],
   "source": [
    "malware_p = 0\n",
    "\n",
    "for i in range(y.shape[0]):\n",
    "\n",
    "    if z[i] == 0 and y[i] == z[i]: \n",
    "\n",
    "        malware_p += 1\n",
    "\n",
    "malware_p = malware_p/(y.shape[0] - 1997)"
   ]
  },
  {
   "cell_type": "code",
   "execution_count": 10,
   "metadata": {},
   "outputs": [
    {
     "name": "stdout",
     "output_type": "stream",
     "text": [
      "Using matplotlib backend: Qt5Agg\n"
     ]
    },
    {
     "data": {
      "text/plain": [
       "<matplotlib.image.AxesImage at 0x21c396ecd90>"
      ]
     },
     "execution_count": 10,
     "metadata": {},
     "output_type": "execute_result"
    }
   ],
   "source": [
    "import matplotlib.pyplot as plt\n",
    "\n",
    "%matplotlib auto\n",
    "\n",
    "fig, (ax0, ax1) = plt.subplots(1, 2)\n",
    "\n",
    "ax0.imshow([y], extent=[0,100,0,1], aspect=100)\n",
    "ax1.imshow([z], extent=[0,100,0,1], aspect=100)"
   ]
  },
  {
   "cell_type": "code",
   "execution_count": 6,
   "metadata": {},
   "outputs": [
    {
     "data": {
      "text/plain": [
       "(8674, 2000)"
      ]
     },
     "execution_count": 6,
     "metadata": {},
     "output_type": "execute_result"
    }
   ],
   "source": [
    "x.shape"
   ]
  },
  {
   "cell_type": "code",
   "execution_count": null,
   "metadata": {},
   "outputs": [],
   "source": [
    "import tensorboard"
   ]
  }
 ],
 "metadata": {
  "interpreter": {
   "hash": "b3ba2566441a7c06988d0923437866b63cedc61552a5af99d1f4fb67d367b25f"
  },
  "kernelspec": {
   "display_name": "Python 3.8.8 64-bit ('base': conda)",
   "name": "python3"
  },
  "language_info": {
   "codemirror_mode": {
    "name": "ipython",
    "version": 3
   },
   "file_extension": ".py",
   "mimetype": "text/x-python",
   "name": "python",
   "nbconvert_exporter": "python",
   "pygments_lexer": "ipython3",
   "version": "3.8.8"
  },
  "orig_nbformat": 4
 },
 "nbformat": 4,
 "nbformat_minor": 2
}
